{
  "nbformat": 4,
  "nbformat_minor": 0,
  "metadata": {
    "colab": {
      "provenance": [],
      "authorship_tag": "ABX9TyOS95Ukm89IN3QVQzD7qlVb",
      "include_colab_link": true
    },
    "kernelspec": {
      "name": "python3",
      "display_name": "Python 3"
    },
    "language_info": {
      "name": "python"
    }
  },
  "cells": [
    {
      "cell_type": "markdown",
      "metadata": {
        "id": "view-in-github",
        "colab_type": "text"
      },
      "source": [
        "<a href=\"https://colab.research.google.com/github/xDman3D/CFB-Poll-v0.1/blob/main/CFP_Poll_v0.1.ipynb\" target=\"_parent\"><img src=\"https://colab.research.google.com/assets/colab-badge.svg\" alt=\"Open In Colab\"/></a>"
      ]
    },
    {
      "cell_type": "code",
      "execution_count": null,
      "metadata": {
        "id": "MFZM0RbEQu8Q"
      },
      "outputs": [],
      "source": [
        "'pip install -r requirements.txt' #installed requirements.text file"
      ]
    },
    {
      "cell_type": "code",
      "source": [
        "'pip install -r requirements.txt' #installed requirements.text file\n",
        "\n",
        "%pip install cfbd flatdict --quiet # install cfbd and the flatdict library in Google Colab\n",
        "\n",
        "import cfbd\n",
        "import pandas as pd\n",
        "from matplotlib import pyplot as plt\n",
        "import flatdict\n",
        "\n",
        "#setting some configurations\n",
        "pd.set_option('display.max_columns', None) # do not truncate columns\n",
        "plt.style.use('ggplot')\n",
        "\n",
        "CFBD_API_KEY =('NzqjVKK0tMab5dMe8wXBGhql5o+jefFhsyjTA37Ad6QNrwaNOyMnqZYTy4VaF5go') # just paste in your API Key here instead of using dotenv and the os library\n",
        "\n",
        "config = cfbd.Configuration()\n",
        "config.api_key['Authorization'] = CFBD_API_KEY\n",
        "config.api_key_prefix['Authorization'] = 'Bearer'\n",
        "\n",
        "api = cfbd.StatsApi(cfbd.ApiClient(config))\n",
        "\n",
        "import numpy as np\n",
        "import cfbd\n",
        "import plotly.express as px\n",
        "import os\n",
        "import math\n",
        "import datetime as dt\n",
        "import sys\n",
        "\n",
        "pd.set_option('display.max_colwidth', None)\n",
        "pd.set_option('display.max_columns', None)\n",
        "pd.set_option('display.width', None)\n",
        "pd.set_option('mode.chained_assignment', None) # Disable this if you have issues. This is to supress a warning in the SOS section of the Team code that is working as intended.\n",
        "\n",
        "#############\n",
        "# Constants #\n",
        "#############\n",
        "# Runtime Constants - Use these to change when or how the poll runs\n",
        "YEAR      = 2021\n",
        "WEEK      = 1\n",
        "RUN_SCRAPER = True # Run this if the values in the csvs are out of date\n",
        "\n",
        "# Value Constants - Tweak the poll outputs.\n",
        "# My default values are derived using the research contained in the /research directory.\n",
        "START_YEAR = 2010\n",
        "TESTING = False # Set this to false if you care about poll output.\n",
        "K_VALUE = 19\n",
        "HFA = 30 # Raw output is 3.04, converted to elo is 30.4. Rounds down to the whole number.\n",
        "FCS_ELO = 1204 # FCS Teams lose by, on average, 29.6 points. Converted to elo, 296. Average FBS team is 1500, so 1204 = 1500 - 296\n",
        "MEAN_REVERSION = 0.446153846153846\n",
        "\n",
        "# Dependent Variable\n",
        "D_V = 'k_value'\n",
        "LOW_D_V = 16\n",
        "HIGH_D_V = 24\n",
        "STEPS = 11\n",
        "\n",
        "class Execution:\n",
        "    def build_options(self, iter_d_v=None):\n",
        "        self.options = {\n",
        "            'start_year':START_YEAR,\n",
        "            'testing':TESTING,\n",
        "            'k_value':K_VALUE,\n",
        "            'hfa':HFA,\n",
        "            'fcs_elo':FCS_ELO,\n",
        "            'mean_reversion':MEAN_REVERSION,\n",
        "            'end_year':YEAR,\n",
        "            'week':WEEK\n",
        "        }\n",
        "\n",
        "        if TESTING:\n",
        "            self.options[D_V] = iter_d_v\n",
        "\n",
        "    def run(self):\n",
        "        # Should we run the scraper? This is controlled in Constants\n",
        "        if RUN_SCRAPER:\n",
        "            'scrape_stats',(WEEK)\n",
        "\n",
        "        # Is this a testing run or a real run? Testing runs are significantly longer\n",
        "        if TESTING:\n",
        "            # Set up the progressbar\n",
        "            with 'alive_bar',((STEPS * (YEAR + 1 - START_YEAR))) as bar:\n",
        "                # Set up the output dataframe\n",
        "                outputs = pd.DataFrame(columns=['iter_year','perc_correct','dv_value'])\n",
        "\n",
        "                for iter_d_v in np.linspace(LOW_D_V, HIGH_D_V, STEPS):\n",
        "                    testing_games = pd.DataFrame()\n",
        "                    testing_teams = pd.DataFrame()\n",
        "                    testing_plays = pd.DataFrame()\n",
        "                    testing_stats = pd.DataFrame()\n",
        "\n",
        "                    for iter_year in range(START_YEAR, YEAR + 1):\n",
        "                        self.build_options(iter_d_v)\n",
        "\n",
        "                        bar()\n",
        "\n",
        "                        # Run the cycle\n",
        "                        polling_cycle = Cycle(self.options, iter_year)\n",
        "                        results = polling_cycle.run()\n",
        "\n",
        "                        # Append the iterated dependent variable to our data set\n",
        "                        results.append(iter_d_v)\n",
        "                        results_series = pd.Series(results, index=outputs.columns)\n",
        "                        outputs = outputs.append(results_series, ignore_index=True)\n",
        "\n",
        "                # Dump the DV outputs to a CSV\n",
        "                outputs.to_csv('research/D_V.csv')\n",
        "\n",
        "                # Print out the DV graph\n",
        "                fig = px.scatter(outputs, x='dv_value',y='perc_correct')\n",
        "                fig.write_html('research/dv_test.html')\n",
        "        else:\n",
        "            with 'alive_bar'(length=(YEAR + 1 - START_YEAR)) as bar:\n",
        "                for iter_year in range(START_YEAR, YEAR + 1):\n",
        "                    self.build_options()\n",
        "\n",
        "                    bar()\n",
        "                    polling_cycle = Cycle(self.options, iter_year)\n",
        "                    output = polling_cycle.run()\n",
        "\n",
        "execution = Execution()\n",
        "execution.run()\n"
      ],
      "metadata": {
        "colab": {
          "base_uri": "https://localhost:8080/",
          "height": 411
        },
        "id": "Lhd-05OHSoM_",
        "outputId": "5a9da981-cde2-4fc2-baea-d12522e494b4"
      },
      "execution_count": 19,
      "outputs": [
        {
          "output_type": "stream",
          "name": "stderr",
          "text": [
            "<>:113: SyntaxWarning: 'str' object is not callable; perhaps you missed a comma?\n",
            "<>:113: SyntaxWarning: 'str' object is not callable; perhaps you missed a comma?\n",
            "<ipython-input-19-b8222e9dc8ad>:113: SyntaxWarning: 'str' object is not callable; perhaps you missed a comma?\n",
            "  with 'alive_bar'(length=(YEAR + 1 - START_YEAR)) as bar:\n"
          ]
        },
        {
          "output_type": "error",
          "ename": "TypeError",
          "evalue": "ignored",
          "traceback": [
            "\u001b[0;31m---------------------------------------------------------------------------\u001b[0m",
            "\u001b[0;31mTypeError\u001b[0m                                 Traceback (most recent call last)",
            "\u001b[0;32m<ipython-input-19-b8222e9dc8ad>\u001b[0m in \u001b[0;36m<cell line: 122>\u001b[0;34m()\u001b[0m\n\u001b[1;32m    120\u001b[0m \u001b[0;34m\u001b[0m\u001b[0m\n\u001b[1;32m    121\u001b[0m \u001b[0mexecution\u001b[0m \u001b[0;34m=\u001b[0m \u001b[0mExecution\u001b[0m\u001b[0;34m(\u001b[0m\u001b[0;34m)\u001b[0m\u001b[0;34m\u001b[0m\u001b[0;34m\u001b[0m\u001b[0m\n\u001b[0;32m--> 122\u001b[0;31m \u001b[0mexecution\u001b[0m\u001b[0;34m.\u001b[0m\u001b[0mrun\u001b[0m\u001b[0;34m(\u001b[0m\u001b[0;34m)\u001b[0m\u001b[0;34m\u001b[0m\u001b[0;34m\u001b[0m\u001b[0m\n\u001b[0m",
            "\u001b[0;32m<ipython-input-19-b8222e9dc8ad>\u001b[0m in \u001b[0;36mrun\u001b[0;34m(self)\u001b[0m\n\u001b[1;32m    111\u001b[0m                 \u001b[0mfig\u001b[0m\u001b[0;34m.\u001b[0m\u001b[0mwrite_html\u001b[0m\u001b[0;34m(\u001b[0m\u001b[0;34m'research/dv_test.html'\u001b[0m\u001b[0;34m)\u001b[0m\u001b[0;34m\u001b[0m\u001b[0;34m\u001b[0m\u001b[0m\n\u001b[1;32m    112\u001b[0m         \u001b[0;32melse\u001b[0m\u001b[0;34m:\u001b[0m\u001b[0;34m\u001b[0m\u001b[0;34m\u001b[0m\u001b[0m\n\u001b[0;32m--> 113\u001b[0;31m             \u001b[0;32mwith\u001b[0m \u001b[0;34m'alive_bar'\u001b[0m\u001b[0;34m(\u001b[0m\u001b[0mlength\u001b[0m\u001b[0;34m=\u001b[0m\u001b[0;34m(\u001b[0m\u001b[0mYEAR\u001b[0m \u001b[0;34m+\u001b[0m \u001b[0;36m1\u001b[0m \u001b[0;34m-\u001b[0m \u001b[0mSTART_YEAR\u001b[0m\u001b[0;34m)\u001b[0m\u001b[0;34m)\u001b[0m \u001b[0;32mas\u001b[0m \u001b[0mbar\u001b[0m\u001b[0;34m:\u001b[0m\u001b[0;34m\u001b[0m\u001b[0;34m\u001b[0m\u001b[0m\n\u001b[0m\u001b[1;32m    114\u001b[0m                 \u001b[0;32mfor\u001b[0m \u001b[0miter_year\u001b[0m \u001b[0;32min\u001b[0m \u001b[0mrange\u001b[0m\u001b[0;34m(\u001b[0m\u001b[0mSTART_YEAR\u001b[0m\u001b[0;34m,\u001b[0m \u001b[0mYEAR\u001b[0m \u001b[0;34m+\u001b[0m \u001b[0;36m1\u001b[0m\u001b[0;34m)\u001b[0m\u001b[0;34m:\u001b[0m\u001b[0;34m\u001b[0m\u001b[0;34m\u001b[0m\u001b[0m\n\u001b[1;32m    115\u001b[0m                     \u001b[0mself\u001b[0m\u001b[0;34m.\u001b[0m\u001b[0mbuild_options\u001b[0m\u001b[0;34m(\u001b[0m\u001b[0;34m)\u001b[0m\u001b[0;34m\u001b[0m\u001b[0;34m\u001b[0m\u001b[0m\n",
            "\u001b[0;31mTypeError\u001b[0m: 'str' object is not callable"
          ]
        }
      ]
    },
    {
      "cell_type": "code",
      "source": [],
      "metadata": {
        "id": "opE6EC_gvupa"
      },
      "execution_count": null,
      "outputs": []
    }
  ]
}